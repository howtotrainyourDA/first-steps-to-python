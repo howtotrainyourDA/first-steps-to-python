{
 "cells": [
  {
   "cell_type": "markdown",
   "id": "d68751ab-7c94-4bc2-b222-69b6f5a8c92b",
   "metadata": {},
   "source": [
    "---GENERIC STUFF---\n",
    "="
   ]
  },
  {
   "cell_type": "markdown",
   "id": "20bb6f96-08bc-4d4e-9c84-4877f2955e7e",
   "metadata": {},
   "source": [
    "assignment operators\n",
    "=\n",
    "=  object IS value\n",
    "\n",
    "comparison operators\n",
    "=\n",
    "== object equals value\n",
    "\n",
    "logical operators\n",
    "=\n",
    "not negates the logical value so if statement is true it becomes false and vice versabb\n",
    "\n"
   ]
  },
  {
   "cell_type": "markdown",
   "id": "e9fd3c27-dc6d-4940-83e0-67fbd0052487",
   "metadata": {},
   "source": [
    "differences among x is 5, x = 5, and x == 5:\n",
    "=\n",
    "\n",
    "x = 5:\n",
    "        This is an assignment statement that assigns the value 5 to the variable x.\n",
    "        Example:\n",
    "\n",
    "        \n",
    "x is 5:\n",
    "\n",
    "    This is a comparison that checks whether x and 5 refer to the same object in memory.\n",
    "    It returns True if they are the same object, otherwise it returns False.\n",
    "    Example:\n",
    "   \n",
    "    x = 5\n",
    "    print(x is 5)  # This will print True\n",
    "\n",
    "x == 5:\n",
    "\n",
    "    This is a comparison that checks for value equality. It returns True if the value of x is equal to 5, regardless of whether they are the same object in memory.\n",
    "    Example:\n",
    "\n",
    "        x = 5\n",
    "        print(x == 5)  # This will also print True\n",
    "\n",
    "Summary:\n",
    "\n",
    "    x = 5: Assigns the value 5 to x.\n",
    "    x is 5: Checks if x and 5 are the same object in memory.\n",
    "    x == 5: Checks if the value of x is equal to 5.\n",
    "\n",
    "In many cases with small integers like 5, x is 5 and x == 5 will yield the same result, but it's important to understand their underlying differences."
   ]
  },
  {
   "cell_type": "markdown",
   "id": "975904eb-aed4-43b9-8297-7bf5eaf85da3",
   "metadata": {},
   "source": [
    "difference if and elif. what if I use if only instead of elif\n",
    "=\n",
    "\n",
    "Using if statements instead of elif statements repeatedly in a series of conditional checks will still work, but it can lead to different behavior depending on your conditions. Here's a breakdown of how they differ:\n",
    "Using if Statements\n",
    "\n",
    "When you use multiple if statements, each condition is evaluated independently. This means that if multiple conditions are true, all of the corresponding blocks will execute.\n",
    "\n",
    "Example:\n",
    "\n",
    "x = 10\n",
    "\n",
    "if x > 5:\n",
    "    print(\"x is greater than 5\")\n",
    "    \n",
    "if x > 8:\n",
    "    print(\"x is greater than 8\")\n",
    "\n",
    "if x > 12:\n",
    "    print(\"x is greater than 12\")\n",
    "\n",
    "Output:\n",
    "\n",
    "x is greater than 5\n",
    "x is greater than 8\n",
    "\n",
    "In this case, both the first and second conditions are true, so both print statements are executed.\n",
    "Using if and elif\n",
    "\n",
    "\n",
    "When you use if followed by elif, only the first true condition will execute, and subsequent conditions will be ignored.\n",
    "\n",
    "Example:\n",
    "\n",
    "x = 10\n",
    "\n",
    "if x > 5:\n",
    "    print(\"x is greater than 5\")\n",
    "elif x > 8:\n",
    "    print(\"x is greater than 8\")\n",
    "elif x > 12:\n",
    "    print(\"x is greater than 12\")\n",
    "\n",
    "Output:\n",
    "\n",
    "x is greater than 5\n",
    "\n",
    "Here, only the first condition is true, so only the first print statement executes. The others are not checked.\n",
    "Summary\n",
    "\n",
    "    Multiple if Statements: All true conditions will execute their corresponding blocks.\n",
    "    if and elif: Only the first true condition will execute, allowing for mutually exclusive conditions.\n",
    "\n",
    "Using if for all conditions is valid, but you may want to use elif when you expect only one condition to be true at a time. This can make your code more efficient and clearer in its intent."
   ]
  },
  {
   "cell_type": "markdown",
   "id": "86bd4119-6812-48d1-87be-79a447e3bd11",
   "metadata": {},
   "source": [
    "data types according to chatgpt. it takes types and structures equally\n",
    "=\n",
    "\n",
    "1. Numeric Types\n",
    "\n",
    "    int: Represents integers (e.g., 1, 42, -3).\n",
    "    float: Represents floating-point numbers (e.g., 3.14, -0.001, 2.0).\n",
    "    complex: Represents complex numbers (e.g., 3 + 4j).\n",
    "\n",
    "2. Sequence Types\n",
    "\n",
    "    str: Represents strings (e.g., \"Hello, world!\").\n",
    "    list: Represents ordered, mutable sequences (e.g., [1, 2, 3]).\n",
    "    tuple: Represents ordered, immutable sequences (e.g., (1, 2, 3)).\n",
    "\n",
    "3. Mapping Type\n",
    "\n",
    "    dict: Represents key-value pairs (e.g., {\"key\": \"value\", \"name\": \"Alice\"}).\n",
    "\n",
    "4. Set Types\n",
    "\n",
    "    set: Represents unordered collections of unique elements (e.g., {1, 2, 3}).\n",
    "    frozenset: Represents immutable sets (e.g., frozenset({1, 2, 3})).\n",
    "\n",
    "5. Boolean Type\n",
    "\n",
    "    bool: Represents truth values, either True or False.\n",
    "\n",
    "6. None Type\n",
    "\n",
    "    NoneType: Represents the absence of a value or a null value (e.g., None).\n",
    "\n",
    "Additional Types\n",
    "\n",
    "    bytes: Represents a sequence of bytes (e.g., b'hello').\n",
    "    bytearray: A mutable sequence of bytes.\n",
    "    memoryview: A memory view object that allows access to the internal data of an object that supports the buffer protocol."
   ]
  },
  {
   "cell_type": "markdown",
   "id": "6bcabd74-351e-4bda-8ed7-72ca9f9857db",
   "metadata": {},
   "source": [
    "        "
   ]
  },
  {
   "cell_type": "markdown",
   "id": "350a06a3-54f7-49f4-8a8f-cf4712298a9c",
   "metadata": {},
   "source": [
    "---CODE BIBLE---\n",
    "="
   ]
  },
  {
   "cell_type": "code",
   "execution_count": 123,
   "id": "091e4a77-25fe-4b14-bfce-5c422f70ac6d",
   "metadata": {},
   "outputs": [
    {
     "name": "stdout",
     "output_type": "stream",
     "text": [
      "<class 'int'>\n",
      "True\n"
     ]
    }
   ],
   "source": [
    "# check if something is of a certain type\n",
    "x = 5 \n",
    "print(type(x))\n",
    "\n",
    "b = isinstance(x, int)\n",
    "print(b)"
   ]
  },
  {
   "cell_type": "code",
   "execution_count": 139,
   "id": "d5d083ae-8315-4498-9d0e-a083b901a805",
   "metadata": {},
   "outputs": [
    {
     "name": "stdout",
     "output_type": "stream",
     "text": [
      "[1, 2, 3, 4, 5, 6, 7, 8, 9]\n"
     ]
    }
   ],
   "source": [
    "# range(start, stopp) including first parameter and stopping before last parameter\n",
    "\n",
    "x = 10\n",
    "numbers_below_x = []\n",
    "\n",
    "# Loop through numbers from 1 to x-1\n",
    "for i in range(1, x):  # This will iterate from 1 to 9\n",
    "    numbers_below_x.append(i)\n",
    "\n",
    "print(numbers_below_x)"
   ]
  },
  {
   "cell_type": "code",
   "execution_count": 193,
   "id": "985b04ce-a6dc-4ae8-9dd8-f3a841d92e23",
   "metadata": {},
   "outputs": [
    {
     "name": "stdout",
     "output_type": "stream",
     "text": [
      "d\n",
      "1\n",
      "\n",
      "3\n",
      "last index\n"
     ]
    }
   ],
   "source": [
    "# list syntax\n",
    "\n",
    "lst_1 = [\"Tung\", \"d\", \"last index\"]\n",
    "lst_2 = [\"a\", \"b\", \"c\"]\n",
    "\n",
    "print(lst_1[1]) # gives value for index 1\n",
    "print(lst_1.index(\"d\")) # gives index for value\n",
    "print(\"\")\n",
    "print(len(lst_1)) # length of list which is amount of items, not individual characters\n",
    "print(lst_1[len(lst_1)-1]) # gives value and last index \n",
    "\n",
    "lst_1.append(5) # appends item 5 (int) to it. append uses arguments\n"
   ]
  },
  {
   "cell_type": "code",
   "execution_count": 71,
   "id": "e7f37ee8-ae23-4789-8e17-ec6ad46526f5",
   "metadata": {},
   "outputs": [
    {
     "data": {
      "text/plain": [
       "dict_values([26, 1, 6])"
      ]
     },
     "execution_count": 71,
     "metadata": {},
     "output_type": "execute_result"
    }
   ],
   "source": [
    "# dict syntax\n",
    "\n",
    "word_freq = {'love': 25, 'conversation': 1, \"love\" : 26, 'every': 6} # multiple pairs allowed, latest will be used; keys are unique, values aren't\n",
    "\n",
    "word_freq.get(\"love\") # only works with keys since they are unique, therefore a value could have multiple outputs and won't work with get\n",
    "# word_freq.values(26) # does not take arguments, values() only gives all values\n",
    "word_freq.values()"
   ]
  },
  {
   "cell_type": "markdown",
   "id": "82cb4723-f0e2-4123-bd01-f9b90df6c1bc",
   "metadata": {},
   "source": [
    "---CODES---\n",
    "="
   ]
  },
  {
   "cell_type": "code",
   "execution_count": 173,
   "id": "5fc63ac7-472f-417d-a147-22ffb479fb00",
   "metadata": {},
   "outputs": [
    {
     "name": "stdout",
     "output_type": "stream",
     "text": [
      "The sum of [1, 2, 3, 4, 4] and [5, 6, -3, 2, 10, 28, 14, 18, 17, 16] is [1, 2, 3, 4, 5, 6, 10, 14, 16, 17, 18, 28, -3]\n",
      "\n"
     ]
    },
    {
     "data": {
      "text/plain": [
       "{-3, 1, 2, 3, 4, 5, 6, 10, 14, 16, 17, 18, 28}"
      ]
     },
     "execution_count": 173,
     "metadata": {},
     "output_type": "execute_result"
    }
   ],
   "source": [
    "# testing f strings and concatenating lists with unique values only\n",
    "lst1 = [1,2,3,4,4]\n",
    "lst2 = [5,6,-3,2,10,28,14,18,17,16]\n",
    "\n",
    "unique_values = list(set(lst1 + lst2))\n",
    "\n",
    "print(f\"The sum of {lst1} and {lst2} is {unique_values}\")\n",
    "\n"
   ]
  },
  {
   "cell_type": "code",
   "execution_count": 179,
   "id": "d3a69786-0dd9-4da9-a74a-70ec71c9f742",
   "metadata": {},
   "outputs": [
    {
     "name": "stdout",
     "output_type": "stream",
     "text": [
      "6\n"
     ]
    }
   ],
   "source": [
    "# creating number of characters in a list\n",
    "\n",
    "lst_1 = [\"Tung\", \"d\", \"3\"]\n",
    "lst_2 = [\"a\", \"b\", \"c\"]\n",
    "\n",
    "total_length = sum(len(item) for item in lst_1)\n",
    "\n",
    "print(total_length)\n",
    "\n"
   ]
  },
  {
   "cell_type": "code",
   "execution_count": null,
   "id": "ed855059-fa82-4039-8952-80489eaa4fde",
   "metadata": {},
   "outputs": [],
   "source": [
    "# or \n",
    "\n",
    "for item in lst_1:\n",
    "    total_length += len(item)\n",
    "\n",
    "print(total_length)"
   ]
  },
  {
   "cell_type": "code",
   "execution_count": null,
   "id": "92bc1c62-59a7-455a-bce7-1674d73c4717",
   "metadata": {},
   "outputs": [],
   "source": [
    "# Counting occurrences of elements using a dictionary\n",
    "data = [1, 2, 3, 2, 1, 3, 4, 5, 2, 3, 1]\n",
    "\n",
    "counts = {}\n",
    "\n",
    "for element in data:\n",
    "    if element in counts: #this populates a dictionary using the syntax dict[key] = value \n",
    "        counts[element] += 1\n",
    "    else:\n",
    "        counts[element] = 1\n",
    "\n",
    "# smart way to print counts for each element\n",
    "for element, count in counts.items():\n",
    "    print(f\"Element {element} occurs {count} times.\")"
   ]
  },
  {
   "cell_type": "markdown",
   "id": "95aa20ec-b1c6-45c3-ade6-3055daeba917",
   "metadata": {},
   "source": [
    "---QUESTIONS---\n",
    "="
   ]
  },
  {
   "cell_type": "code",
   "execution_count": null,
   "id": "93dddb3c-f49f-4c2f-ada8-ff730fae4209",
   "metadata": {},
   "outputs": [],
   "source": [
    "# while loop practise with grade percentage\n",
    "\n",
    "percentage = float(input(\"Enter the percentage (0-100): \"))\n",
    "\n",
    "while percentage in range(0, 101):\n",
    "    if percentage >= 90:\n",
    "        grade = \"A\"\n",
    "    elif percentage >= 80:\n",
    "        grade = \"B\"\n",
    "    elif percentage >= 70:\n",
    "        grade = \"C\"\n",
    "    elif percentage >= 60:\n",
    "        grade = \"D\"\n",
    "    else:\n",
    "        grade = \"F\"\n",
    "    \n",
    "    print(\"Your grade is:\", grade) \n",
    "    break \n",
    "\n",
    "else:\n",
    " print(\"Invalid percentage. Please enter a value between 0 and 100.\")"
   ]
  },
  {
   "cell_type": "markdown",
   "id": "3c021fb2-110b-4409-ad87-1add9fbc1017",
   "metadata": {},
   "source": [
    "Your code does work, but there are a few reasons why it might not be considered good coding practice. Here’s a breakdown:\n",
    "1. Logical Structure of while and else\n",
    "\n",
    "    Misuse of else with while: The else statement attached to the while loop only executes if the loop terminates normally (i.e., without hitting a break). In your code, if the percentage is valid, the break statement exits the loop before the else can execute, which may lead to confusion for someone reading the code. This can make the code less intuitive.\n",
    "\n",
    "2. Control Flow Clarity\n",
    "\n",
    "    Infinite Loop: While the use of a while loop is appropriate for input validation, using while True and a break statement can sometimes be clearer. It’s a common pattern that indicates you want to keep looping until a condition is met. It improves readability by making it clear that the loop is intended to run indefinitely until valid input is provided.\n",
    "\n",
    "3. Validation Logic Placement\n",
    "\n",
    "    Redundant else Logic: In your original code, the else statement is somewhat redundant because if the percentage is not in the range of 0-100, the program does not need to evaluate the grade logic at all. By separating the validation logic and the grading logic, you can create a clearer flow.\n",
    "\n",
    "4. User Experience\n",
    "\n",
    "    Feedback Loop: If the user enters an invalid percentage, your code does not give them the opportunity to correct it before the loop terminates. Instead, you need a structure that continuously prompts the user until they provide a valid input.\n",
    "\n",
    "Conclusion\n",
    "\n",
    "Here’s how the code can be improved for clarity and maintainability:\n",
    "\n",
    "    Using while True and breaking the loop when valid input is processed.\n",
    "    Clear separation of input validation and grading logic.\n",
    "    Simplifying control flow to enhance readability.\n",
    "\n",
    "While your code functions correctly, adhering to these principles can make your code more understandable, easier to maintain, and better aligned with common coding practices."
   ]
  },
  {
   "cell_type": "code",
   "execution_count": 12,
   "id": "82475460-6f71-48cb-83d7-0b203676efe6",
   "metadata": {},
   "outputs": [
    {
     "name": "stdin",
     "output_type": "stream",
     "text": [
      "Enter the percentage (0-100):  5000\n"
     ]
    },
    {
     "name": "stdout",
     "output_type": "stream",
     "text": [
      "Invalid percentage. Please enter a value between 0 and 100.\n"
     ]
    },
    {
     "name": "stdin",
     "output_type": "stream",
     "text": [
      "Enter the percentage (0-100):  100\n"
     ]
    },
    {
     "name": "stdout",
     "output_type": "stream",
     "text": [
      "Your grade is: A\n"
     ]
    }
   ],
   "source": [
    "# corrected version\n",
    "\n",
    "while True:\n",
    "    percentage = float(input(\"Enter the percentage (0-100): \"))\n",
    "    \n",
    "    if 0 <= percentage <= 100:\n",
    "        if percentage >= 90:\n",
    "            grade = \"A\"\n",
    "        elif percentage >= 80:\n",
    "            grade = \"B\"\n",
    "        elif percentage >= 70:\n",
    "            grade = \"C\"\n",
    "        elif percentage >= 60:\n",
    "            grade = \"D\"\n",
    "        else:\n",
    "            grade = \"F\"\n",
    "        \n",
    "        print(\"Your grade is:\", grade)\n",
    "        break  # Exit the loop once a valid grade is printed\n",
    "    else:\n",
    "        print(\"Invalid percentage. Please enter a value between 0 and 100.\")\n"
   ]
  },
  {
   "cell_type": "code",
   "execution_count": null,
   "id": "d4e2be01-f994-4490-a0c7-10372722d860",
   "metadata": {},
   "outputs": [],
   "source": []
  },
  {
   "cell_type": "code",
   "execution_count": 44,
   "id": "a08d87d2-aa49-480c-aa35-85771365f344",
   "metadata": {},
   "outputs": [
    {
     "name": "stdin",
     "output_type": "stream",
     "text": [
      "please enter your 4 or 6 digit PIN 555555\n",
      " 5555555\n"
     ]
    },
    {
     "name": "stdout",
     "output_type": "stream",
     "text": [
      "Incorrect PIN! Please enter your PIN again5555555\n"
     ]
    }
   ],
   "source": [
    "# while loop practise with PIN check\n",
    "\n",
    "while True:\n",
    "    pin = input(\"please enter your 4 or 6 digit PIN\")\n",
    "    if len(pin) == 4 or len(pin) == 6:\n",
    "        if int(pin) == 1234 or int(pin) == 654321:\n",
    "            result = \"This is the correct PIN!\"\n",
    "            print(result)\n",
    "        else:\n",
    "            print(f\"Incorrect PIN! Please enter your PIN again\")\n",
    "        \n",
    "        break\n",
    "\n",
    "          "
   ]
  },
  {
   "cell_type": "markdown",
   "id": "347ebba7-d9b6-4ae1-b385-aacb2f6d21bd",
   "metadata": {},
   "source": [
    "Your code is mostly on the right track for validating a PIN, but it has a few logical issues and potential improvements. Here’s a breakdown:\n",
    "Issues\n",
    "\n",
    "    Unconditional Break: The break statement is outside the conditional blocks, which means the loop will exit after the first iteration regardless of whether the PIN is correct or not.\n",
    "    Length Check with Integer Conversion: You’re converting the pin to an integer before checking its length. This will cause an error if the PIN is 6 digits long (since it will exceed the maximum value for an integer).\n",
    "    Input Handling: It’s good to ensure that the input is numeric before converting it to an integer to avoid errors with invalid input."
   ]
  },
  {
   "cell_type": "code",
   "execution_count": 46,
   "id": "a6c899c1-acba-4f3f-9978-8b7d6bb339d4",
   "metadata": {},
   "outputs": [
    {
     "name": "stdin",
     "output_type": "stream",
     "text": [
      "Please enter your 4 or 6 digit PIN:  1234875634\n"
     ]
    },
    {
     "name": "stdout",
     "output_type": "stream",
     "text": [
      "Invalid input. Please enter a 4 or 6 digit numeric PIN.\n"
     ]
    },
    {
     "name": "stdin",
     "output_type": "stream",
     "text": [
      "Please enter your 4 or 6 digit PIN:  123456\n"
     ]
    },
    {
     "name": "stdout",
     "output_type": "stream",
     "text": [
      "Incorrect PIN. Try again.\n"
     ]
    },
    {
     "name": "stdin",
     "output_type": "stream",
     "text": [
      "Please enter your 4 or 6 digit PIN:  2\n"
     ]
    },
    {
     "name": "stdout",
     "output_type": "stream",
     "text": [
      "Invalid input. Please enter a 4 or 6 digit numeric PIN.\n"
     ]
    },
    {
     "name": "stdin",
     "output_type": "stream",
     "text": [
      "Please enter your 4 or 6 digit PIN:  1234\n"
     ]
    },
    {
     "name": "stdout",
     "output_type": "stream",
     "text": [
      "This is the correct PIN!\n"
     ]
    }
   ],
   "source": [
    "# corrected version\n",
    "\n",
    "while True:\n",
    "    pin = input(\"Please enter your 4 or 6 digit PIN: \")\n",
    "\n",
    "    # Check if the input is numeric and of valid length\n",
    "    if len(pin) == 4 or len(pin) == 6:\n",
    "        if pin.isdigit() and (int(pin) == 1234 or int(pin) == 654321):\n",
    "            print(\"This is the correct PIN!\")\n",
    "            break  # Exit the loop on correct PIN\n",
    "        else:\n",
    "            print(\"Incorrect PIN. Try again.\")\n",
    "    else:\n",
    "        print(\"Invalid input. Please enter a 4 or 6 digit numeric PIN.\")\n"
   ]
  },
  {
   "cell_type": "markdown",
   "id": "fd3e20d3-3bb0-434d-a191-56ec877baa86",
   "metadata": {},
   "source": [
    "Key Improvements\n",
    "\n",
    "    Valid Length Check: The length of pin is checked before any numeric conversion.\n",
    "    Check if Numeric: The code checks if pin is numeric using pin.isdigit() before converting to an integer.\n",
    "    Controlled Loop Exit: The break statement is placed only after a correct PIN is confirmed, allowing the user to retry if they enter an incorrect PIN or invalid input.\n",
    "\n",
    "Summary\n",
    "\n",
    "This revised version ensures that the program will continuously prompt the user until a valid PIN is entered, providing appropriate feedback for incorrect or invalid inputs."
   ]
  },
  {
   "cell_type": "code",
   "execution_count": null,
   "id": "3cc19afe-bc14-4ee9-b18b-8df43b834450",
   "metadata": {},
   "outputs": [],
   "source": [
    "# corrected version #2 \n",
    "\n",
    "first_try = True  # Flag to indicate if it's the first attempt\n",
    "\n",
    "while True:\n",
    "    if first_try:\n",
    "        pin = input(\"Please enter your 4 or 6 digit PIN: \")\n",
    "    else:\n",
    "        pin = input(\"Incorrect PIN. Please try again: \")\n",
    "\n",
    "    # Check if the input is numeric and of valid length\n",
    "    if len(pin) == 4 or len(pin) == 6:\n",
    "        if pin.isdigit() and (int(pin) == 1234 or int(pin) == 654321):\n",
    "            print(\"This is the correct PIN!\")\n",
    "            break  # Exit the loop on correct PIN\n",
    "        else:\n",
    "            first_try = False  # Set flag to indicate the next prompt is for a retry\n",
    "    else:\n",
    "        print(\"Invalid input. Please enter a 4 or 6 digit numeric PIN.\")\n"
   ]
  },
  {
   "cell_type": "markdown",
   "id": "7486cec0-a7f1-45b5-ad6d-c217ef104d1e",
   "metadata": {},
   "source": []
  },
  {
   "cell_type": "code",
   "execution_count": 109,
   "id": "8c091213-e3be-4c56-b965-ed25abb27661",
   "metadata": {},
   "outputs": [
    {
     "name": "stdin",
     "output_type": "stream",
     "text": [
      "enter pin a\n",
      "invalid characters. Please use digits only 1234\n"
     ]
    },
    {
     "name": "stdout",
     "output_type": "stream",
     "text": [
      "correct pin\n"
     ]
    }
   ],
   "source": [
    "# self-corrected and improved version\n",
    "\n",
    "first_try = True\n",
    "invalid_pin = False\n",
    "while True:\n",
    "    if first_try:\n",
    "        pin = input(\"enter pin\")\n",
    "    elif invalid_pin:\n",
    "        pin = input(\"invalid characters. Please use digits only\")\n",
    "    else:\n",
    "        pin = input(\"try again\")\n",
    "\n",
    "    if pin.isdigit() and (len(pin) == 4 or len(pin) == 6):\n",
    "        if int(pin) == 1234 or int(pin) == 654321:\n",
    "            result = \"correct pin\"\n",
    "            print(result)\n",
    "            break\n",
    "\n",
    "        else:\n",
    "            first_try = False\n",
    "            invalid_pin = False\n",
    "\n",
    "    elif pin.isdigit():\n",
    "        print(\"PIN is not 4 or 6 digit\")\n",
    "        \n",
    "    else:\n",
    "        first_try = False\n",
    "        invalid_pin = True\n"
   ]
  },
  {
   "cell_type": "code",
   "execution_count": 108,
   "id": "11978517-7e35-4aa5-b15a-e77d942bac72",
   "metadata": {},
   "outputs": [
    {
     "name": "stdin",
     "output_type": "stream",
     "text": [
      "Enter PIN (4 or 6 digits):  1234\n"
     ]
    },
    {
     "name": "stdout",
     "output_type": "stream",
     "text": [
      "Correct PIN\n"
     ]
    }
   ],
   "source": [
    "# chatgpt corrected and even more improved version. looks very smooth.\n",
    "\n",
    "def pin_verification():\n",
    "    valid_pins = {1234, 654321}  # Set of valid PINs, list are generally slower than with a set because lists require a linear search,\n",
    "                                #whereas sets use a hash table for faster lookups.\n",
    "    while True:\n",
    "        pin = input(\"Enter PIN (4 or 6 digits): \")\n",
    "\n",
    "        if pin.isdigit():\n",
    "            if len(pin) in [4, 6]:  # Check length\n",
    "                if int(pin) in valid_pins:  # Check if the PIN is valid\n",
    "                    print(\"Correct PIN\")\n",
    "                    break\n",
    "                else:\n",
    "                    print(\"Incorrect PIN, please try again.\")\n",
    "            else:\n",
    "                print(\"PIN must be 4 or 6 digits.\")\n",
    "        else:\n",
    "            print(\"Invalid characters. Please use digits only.\")\n",
    "\n",
    "pin_verification()\n"
   ]
  },
  {
   "cell_type": "code",
   "execution_count": 217,
   "id": "a2586fdc-6fb0-4dca-9e5e-0bddb7dc38d0",
   "metadata": {
    "scrolled": true
   },
   "outputs": [
    {
     "name": "stdin",
     "output_type": "stream",
     "text": [
      "What is the name of the person you are looking for on the list? Bob\n"
     ]
    },
    {
     "name": "stdout",
     "output_type": "stream",
     "text": [
      "Bob is on the list!\n",
      "Bob is on the list!\n",
      "Bob is on the list!\n",
      "Bob is on the list!\n"
     ]
    },
    {
     "name": "stdin",
     "output_type": "stream",
     "text": [
      "Do you want to look for another person? yes\n",
      "What is the name of the person you are looking for on the list? sdf\n"
     ]
    },
    {
     "name": "stdout",
     "output_type": "stream",
     "text": [
      "We are sorry to inform you that sdf is not on the list\n",
      "We are sorry to inform you that sdf is not on the list\n",
      "We are sorry to inform you that sdf is not on the list\n",
      "We are sorry to inform you that sdf is not on the list\n"
     ]
    },
    {
     "name": "stdin",
     "output_type": "stream",
     "text": [
      "Do you want to look for another person? 2\n",
      "Please enter either yes or no yes\n",
      "What is the name of the person you are looking for on the list? 13\n"
     ]
    },
    {
     "name": "stdout",
     "output_type": "stream",
     "text": [
      "We are sorry to inform you that 13 is not on the list\n",
      "We are sorry to inform you that 13 is not on the list\n",
      "We are sorry to inform you that 13 is not on the list\n",
      "We are sorry to inform you that 13 is not on the list\n"
     ]
    },
    {
     "name": "stdin",
     "output_type": "stream",
     "text": [
      "Do you want to look for another person? no\n"
     ]
    },
    {
     "name": "stdout",
     "output_type": "stream",
     "text": [
      "Have a nice day!\n"
     ]
    }
   ],
   "source": [
    "# search for name in list\n",
    "\n",
    "names = [\"Alice\", \"Bob\", \"Charlie\", \"Dave\"] \n",
    "\n",
    "first_try = True\n",
    "another_look_prompt = False\n",
    "yes_no = False\n",
    "\n",
    "while True:\n",
    "    if first_try:\n",
    "        search_name = input(\"What is the name of the person you are looking for on the list?\")\n",
    "        for persons in names:\n",
    "            if search_name in names:\n",
    "                print(f\"{search_name} is on the list!\")\n",
    "                first_try = False\n",
    "                another_look_prompt = True\n",
    "           \n",
    "            else:\n",
    "                print(f\"We are sorry to inform you that {search_name} is not on the list\")\n",
    "                first_try = False\n",
    "                another_look_prompt = True\n",
    "    \n",
    "    elif another_look_prompt:\n",
    "        search_name = input(\"Do you want to look for another person?\")\n",
    "        if search_name.lower() == \"yes\":\n",
    "            first_try = True\n",
    "            another_look_prompt = False\n",
    "\n",
    "        elif search_name.lower() == \"no\":\n",
    "            print(\"Have a nice day!\")\n",
    "            first_try = True\n",
    "            another_look_prompt = False\n",
    "            break\n",
    "\n",
    "        else:\n",
    "            first_try = False\n",
    "            another_look_prompt = False\n",
    "            yes_no = True\n",
    "    elif yes_no:\n",
    "        search_name = input(\"Please enter either yes or no\")\n",
    "        if search_name.lower() == \"yes\":\n",
    "             first_try = True\n",
    "             another_look_prompt = False\n",
    "\n",
    "        elif search_name.lower() == \"no\":\n",
    "             print(\"Have a nice day!\")\n",
    "             first_try = True\n",
    "             another_look_prompt = False\n",
    "             break\n",
    "\n",
    "        else:\n",
    "             first_try = False\n",
    "             another_look_prompt = False\n",
    "             yes_no = True\n",
    "\n",
    "\n",
    "\n"
   ]
  },
  {
   "cell_type": "markdown",
   "id": "d4e6b0bc-349b-429b-b2b1-424a783b8ebf",
   "metadata": {},
   "source": [
    "Issues:\n",
    "\n",
    "    Redundant Conditions: The search condition checks if search_name in names should be used directly without the loop. Using a loop is unnecessary for this check.\n",
    "    Control Flow Logic: The flow of first_try, another_look_prompt, and yes_no can be streamlined.\n",
    "    Output Messages: The messages can be more concise and improve clarity."
   ]
  },
  {
   "cell_type": "code",
   "execution_count": null,
   "id": "4ec79531-cabd-40d1-9415-b6f1761a6131",
   "metadata": {},
   "outputs": [],
   "source": []
  },
  {
   "cell_type": "code",
   "execution_count": 229,
   "id": "a333bddb-8c22-4d20-bf9d-a21af0d74665",
   "metadata": {},
   "outputs": [
    {
     "name": "stdin",
     "output_type": "stream",
     "text": [
      "What is the name of the person you are looking for on the list?  bob\n"
     ]
    },
    {
     "name": "stdout",
     "output_type": "stream",
     "text": [
      "bob is on the list!\n"
     ]
    },
    {
     "name": "stdin",
     "output_type": "stream",
     "text": [
      "Do you want to look for another person? (yes/no)  yes\n",
      "What is the name of the person you are looking for on the list?  dave\n"
     ]
    },
    {
     "name": "stdout",
     "output_type": "stream",
     "text": [
      "dave is on the list!\n"
     ]
    },
    {
     "name": "stdin",
     "output_type": "stream",
     "text": [
      "Do you want to look for another person? (yes/no)  no\n"
     ]
    },
    {
     "name": "stdout",
     "output_type": "stream",
     "text": [
      "Have a nice day!\n"
     ]
    }
   ],
   "source": [
    "# corrected code and improved by case-insensitive inputs\n",
    "\n",
    "names = [\"Alice\", \"Bob\", \"Charlie\", \"Dave\"]\n",
    "\n",
    "while True:\n",
    "    search_name = input(\"What is the name of the person you are looking for on the list? \")\n",
    "\n",
    "    if search_name.lower() in (persons.lower() for persons in names):\n",
    "        print(f\"{search_name} is on the list!\")\n",
    "    else:\n",
    "        print(f\"We are sorry to inform you that {search_name} is not on the list.\")\n",
    "\n",
    "    another_look = input(\"Do you want to look for another person? (yes/no) \").lower()\n",
    "    \n",
    "    if another_look == \"no\":\n",
    "        print(\"Have a nice day!\")\n",
    "        break\n",
    "    elif another_look != \"yes\":\n",
    "        print(\"Please enter either 'yes' or 'no'.\")\n",
    "\n"
   ]
  },
  {
   "cell_type": "markdown",
   "id": "84c4ecf1-58b0-4fa4-a742-4eedf7e24dc9",
   "metadata": {},
   "source": [
    "Explanation of the Revised Code\n",
    "\n",
    "    Direct Search: The line if search_name in names: checks if the name is in the list without needing a loop.\n",
    "    Simplified Prompts: After checking the name, the program directly asks if the user wants to search again.\n",
    "    Lowercase Input Handling: .lower() ensures that input is case-insensitive for \"yes\" and \"no\".\n",
    "    Streamlined Logic: The program flow is cleaner, handling user responses directly without unnecessary flags.\n",
    "\n",
    "Expected Behavior\n",
    "\n",
    "    When you input a name, the program will tell you if it's on the list.\n",
    "    It will then prompt you to search for another name.\n",
    "    The loop continues until you respond with \"no\".\n",
    "\n",
    "This version maintains clarity and functionality while ensuring the code is easier to read and maintain. "
   ]
  },
  {
   "cell_type": "code",
   "execution_count": null,
   "id": "87928638-1a92-4fa0-934b-63fa79e65f1e",
   "metadata": {},
   "outputs": [],
   "source": []
  },
  {
   "cell_type": "code",
   "execution_count": 40,
   "id": "f661629d-571d-47e0-8e2f-aaecb98673a7",
   "metadata": {},
   "outputs": [
    {
     "name": "stdout",
     "output_type": "stream",
     "text": [
      "the smallest number in the list is 2\n",
      "the smallest number in the list is -345\n",
      "the smallest number in the list is -10000\n",
      "the smallest number in the list is 1\n",
      "the smallest number in the list is 1\n",
      "the smallest number in the list is -9\n",
      "the smallest number in the list is -301423\n",
      "the smallest number in the list is 0\n"
     ]
    }
   ],
   "source": [
    "   \n",
    "list_1 = [34, 15, 88, 2]\n",
    "list_2 = [34, -345, -1,100]\n",
    "list_3 = [0, -10000, 1000]\n",
    "\n",
    "list_4 = [1,2]\n",
    "list_5 = [1, 2, 3, 4, 5, 6, 7, 8, 9, 10]\n",
    "list_6 = [1, 2, 3, 4, 5, 6, 7, 8, -9, 10]\n",
    "list_7 = [-133, 12, -5666, -89, 0, -12341, -301423, 101]\n",
    "list_8 = [0]\n",
    "\n",
    "\n",
    "def find_smallest(list):\n",
    "    \n",
    "    print(\"the smallest number in the list is\", min(list))\n",
    "  \n",
    "\n",
    "find_smallest(list_1)\n",
    "find_smallest(list_2)\n",
    "find_smallest(list_3)\n",
    "find_smallest(list_4)\n",
    "find_smallest(list_5)\n",
    "find_smallest(list_6)\n",
    "find_smallest(list_7)\n",
    "find_smallest(list_8)\n"
   ]
  },
  {
   "cell_type": "code",
   "execution_count": 1,
   "id": "8f0e98c4-dcd3-43d0-ac5d-7f73b5d7b4a6",
   "metadata": {},
   "outputs": [
    {
     "name": "stdin",
     "output_type": "stream",
     "text": [
      "please enter your 4 or 6 digit PIN 1234\n"
     ]
    },
    {
     "name": "stdout",
     "output_type": "stream",
     "text": [
      "Your PIN is correct!\n"
     ]
    }
   ],
   "source": [
    "pin1 = \"1234\"\n",
    "pin2 = \"654321\"\n",
    "pin3 = \"2222\"\n",
    "pin4 = \"123a\"\n",
    "pin5 = \"2\"\n",
    "\n",
    "def input_pin(pin):\n",
    "  if pin.isdigit() and (len(pin) == 4 or len(pin) == 6):\n",
    "    if int(pin) == 1234 or int(pin) == 654321:\n",
    "      result = \"Your PIN is correct!\"\n",
    "      print(result)\n",
    "    else:\n",
    "      result = \"Incorrect PIN!\"\n",
    "      print(result)\n",
    "  elif pin.isdigit():\n",
    "    result = \"The PIN you entered is not 4 or 6 digits long.\"\n",
    "    print(result)\n",
    "  else:\n",
    "    result = \"invalid character input! Please enter only digits\"\n",
    "    print(result)\n",
    "    \n",
    "input_pin(pin1)\n",
    "input_pin(pin2)\n",
    "input_pin(pin3)\n",
    "input_pin(pin4)\n",
    "input_pin(pin5)"
   ]
  },
  {
   "cell_type": "code",
   "execution_count": null,
   "id": "3ff3da2a-3e38-4dce-9322-30faecf84bf3",
   "metadata": {},
   "outputs": [],
   "source": []
  },
  {
   "cell_type": "code",
   "execution_count": 57,
   "id": "092b2d4a-90d3-4bf4-b721-e3f6c78baa21",
   "metadata": {},
   "outputs": [
    {
     "name": "stdout",
     "output_type": "stream",
     "text": [
      "The sum of the numbers that are multiples of 3 or 5 below of your number is 9168\n"
     ]
    }
   ],
   "source": [
    "\n",
    "blw_nmb = []\n",
    "mltpls = []\n",
    "\n",
    "def create_nmb (number):\n",
    " for i in range (1, number):\n",
    "   blw_nmb.append(i)\n",
    "    \n",
    "\n",
    "def multiples_of_3_and_5(list):\n",
    "    for nmb in list:\n",
    "      if nmb % 3 == 0 or nmb % 5 == 0:\n",
    "         mltpls.append(nmb)\n",
    "    print(\"The sum of the numbers that are multiples of 3 or 5 below of your number is\", sum(mltpls))\n",
    "    pass\n",
    "  \n",
    "def sum_of_mltpls(number):\n",
    "  create_nmb(number)\n",
    "  multiples_of_3_and_5(blw_nmb)\n",
    "    \n",
    "#sum_of_mltpls(10)\n",
    "sum_of_mltpls(200)"
   ]
  },
  {
   "cell_type": "code",
   "execution_count": null,
   "id": "6b338dc0-562c-4c05-8fec-a6f406d84b0c",
   "metadata": {},
   "outputs": [],
   "source": []
  },
  {
   "cell_type": "code",
   "execution_count": null,
   "id": "b1246da6-f8d5-4c07-a320-ceda3d11a64f",
   "metadata": {},
   "outputs": [],
   "source": []
  },
  {
   "cell_type": "code",
   "execution_count": 53,
   "id": "aacd82e6-5a3f-4c35-857f-054e9200f452",
   "metadata": {},
   "outputs": [
    {
     "name": "stdout",
     "output_type": "stream",
     "text": [
      "-12\n"
     ]
    }
   ],
   "source": [
    "blw_nmb = []\n",
    "mltpls_4 = []\n",
    "mltpls_9 = []\n",
    "\n",
    "\n",
    "\n",
    "def create_nmb (number):\n",
    "    for i in range (1, number+1):\n",
    "        blw_nmb.append(i)\n",
    "     \n",
    "def multiples_of_4(list):\n",
    "    for nmb in list:\n",
    "        if nmb % 4 == 0:\n",
    "            mltpls_4.append(nmb)\n",
    "    return sum(mltpls_4)\n",
    "          \n",
    "def multiples_of_9(list):\n",
    "    for nmb in list:\n",
    "        if nmb % 9 == 0:\n",
    "            mltpls_9.append(nmb)\n",
    "    return sum(mltpls_9)\n",
    "            \n",
    "def differenceOfMultiples(number):\n",
    "    #insert solution code here\n",
    "    create_nmb(number)\n",
    "    a = multiples_of_4(blw_nmb)\n",
    "    b = multiples_of_9(blw_nmb)\n",
    "    result = number - (a + b)\n",
    "    print(result)\n",
    "      \n",
    "differenceOfMultiples(9)\n",
    "\n",
    "\n"
   ]
  },
  {
   "cell_type": "code",
   "execution_count": 106,
   "id": "f3872f91-24fc-489d-a730-96ac276af39e",
   "metadata": {},
   "outputs": [
    {
     "name": "stdin",
     "output_type": "stream",
     "text": [
      "Please enter a number 5\n"
     ]
    },
    {
     "name": "stdout",
     "output_type": "stream",
     "text": [
      "the factorial of 5 is 120 and verified: 120\n"
     ]
    }
   ],
   "source": [
    "import math\n",
    "\n",
    "while True:\n",
    "    num = int(input(\"Please enter a number\"))\n",
    "    result = 1\n",
    "\n",
    "    for i in range (1, num + 1):\n",
    "        result *= i\n",
    "    break\n",
    "    \n",
    "if  result == math.factorial(num):\n",
    "    print(f\"the factorial of {num} is {result} and verified: {math.factorial(num)}\")"
   ]
  },
  {
   "cell_type": "code",
   "execution_count": 120,
   "id": "cdeba6a8-26c0-4639-aae2-1d451e4d108f",
   "metadata": {},
   "outputs": [
    {
     "name": "stdin",
     "output_type": "stream",
     "text": [
      "Please enter a positive integer:  4\n"
     ]
    },
    {
     "name": "stdout",
     "output_type": "stream",
     "text": [
      "The factorial of 4 is 24, and it has been verified against the built-in function.\n"
     ]
    }
   ],
   "source": [
    "# chatgpt \n",
    "\n",
    "import math\n",
    "\n",
    "def calculate_factorial():\n",
    "    while True:\n",
    "        try:\n",
    "            num = int(input(\"Please enter a positive integer: \"))\n",
    "            if num < 0:\n",
    "                print(\"Factorial is not defined for negative numbers. Please try again.\")\n",
    "                continue #cool way to move to the next step which is the input above\n",
    "            \n",
    "            result = 1  \n",
    "            for i in range(1, num + 1): #no need for else since this is the only else anyway if num>0; also no need for break since for ends eventually \n",
    "                result *= i  \n",
    "            \n",
    "            return num, result  # Return both the number and the calculated factorial\n",
    "        except ValueError:\n",
    "            print(\"Invalid input. Please enter a positive integer.\")\n",
    "\n",
    "# Calculate factorial\n",
    "num, result = calculate_factorial() # returning/unpacking: In essence, it connects the function you defined with the variables you want to use later in your program.\n",
    "                                    # supposedly commong practise: By placing calculate_factorial() on the right side of the = operator, you are saying, \n",
    "                                    # \"I want to take the values that this function returns and assign them to the variables on the left side.\"\n",
    "                                    # The function returns a tuple (two values: num and result), which is then unpacked and assigned to the variables num and result. \n",
    "\n",
    "if result == math.factorial(num):\n",
    "   print(f\"The factorial of {num} is {result}, and it has been verified against the built-in function.\")\n",
    "else:\n",
    "    print(\"There was an error in the calculation.\")\n"
   ]
  },
  {
   "cell_type": "code",
   "execution_count": 17,
   "id": "a79868ca-572c-46b6-a5de-94ff7db5de34",
   "metadata": {},
   "outputs": [
    {
     "name": "stdout",
     "output_type": "stream",
     "text": [
      "6\n"
     ]
    },
    {
     "name": "stdin",
     "output_type": "stream",
     "text": [
      "guess the number 1\n"
     ]
    },
    {
     "name": "stdout",
     "output_type": "stream",
     "text": [
      "wrong! try again!\n"
     ]
    },
    {
     "name": "stdin",
     "output_type": "stream",
     "text": [
      "guess the number 2\n"
     ]
    },
    {
     "name": "stdout",
     "output_type": "stream",
     "text": [
      "wrong! try again!\n"
     ]
    },
    {
     "name": "stdin",
     "output_type": "stream",
     "text": [
      "guess the number 6\n"
     ]
    },
    {
     "name": "stdout",
     "output_type": "stream",
     "text": [
      "6 was the right number!\n"
     ]
    }
   ],
   "source": [
    "# guess random number \n",
    "\n",
    "import random\n",
    "random_num = random.randint(1, 10)\n",
    "\n",
    "while True:\n",
    "    guess = input(\"guess the number\")\n",
    "    if guess.isdigit():\n",
    "                if int(guess) in range(1,11):\n",
    "                    if int(guess) == random_num:\n",
    "                        print(f\"{guess} was the right number!\")\n",
    "                        break\n",
    "                    else:\n",
    "                        print(\"wrong! try again!\")\n",
    "                else:\n",
    "                    print(\"Number outside of range! Please enter a number between 1 and 10\")\n",
    "    elif guess == \"cancel\":\n",
    "        break\n",
    "    else:\n",
    "        print(\"Invalid characters. Please use digits only and enter a number between 1 and 10\")\n",
    " \n"
   ]
  },
  {
   "cell_type": "code",
   "execution_count": 25,
   "id": "0ae8754a-7c29-477d-85ce-2869c4bff399",
   "metadata": {},
   "outputs": [
    {
     "name": "stdout",
     "output_type": "stream",
     "text": [
      "Welcome to the number guessing game! Try to guess the number between 1 and 10.\n"
     ]
    },
    {
     "name": "stdin",
     "output_type": "stream",
     "text": [
      "Enter your guess (or type 'cancel' to exit):  cancel\n"
     ]
    },
    {
     "name": "stdout",
     "output_type": "stream",
     "text": [
      "Game canceled.\n"
     ]
    }
   ],
   "source": [
    "# minor improvement \n",
    "\n",
    "import random\n",
    "\n",
    "def guess_random_number():\n",
    "    random_num = random.randint(1, 10)\n",
    "    print(\"Welcome to the number guessing game! Try to guess the number between 1 and 10.\")\n",
    "    \n",
    "    while True:\n",
    "        guess = input(\"Enter your guess (or type 'cancel' to exit): \")\n",
    "        \n",
    "        if guess.isdigit():\n",
    "            guess_num = int(guess)\n",
    "            if 1 <= guess_num <= 10:  # Check if within range\n",
    "                if guess_num == random_num:\n",
    "                    print(f\"{guess_num} was the right number!\")\n",
    "                    break\n",
    "                else:\n",
    "                    print(\"Wrong! Try again!\")\n",
    "            else:\n",
    "                print(\"Number outside of range! Please enter a number between 1 and 10.\")\n",
    "        elif guess.lower() == \"cancel\":  # Allow for case-insensitivity\n",
    "            print(\"Game canceled.\")\n",
    "            break\n",
    "        else:\n",
    "            print(\"Invalid input. Please use digits only.\")\n",
    "\n",
    "guess_random_number()\n"
   ]
  },
  {
   "cell_type": "code",
   "execution_count": null,
   "id": "b9458807-6bad-492d-9f14-8df55d379b3d",
   "metadata": {},
   "outputs": [],
   "source": []
  },
  {
   "cell_type": "code",
   "execution_count": 27,
   "id": "6efecbd9-81d7-421d-b114-cf8a6c36270c",
   "metadata": {},
   "outputs": [
    {
     "name": "stdout",
     "output_type": "stream",
     "text": [
      "the smallest number in the list is 2\n",
      "the smallest number in the list is -345\n",
      "the smallest number in the list is -10000\n",
      "the smallest number in the list is 1\n",
      "the smallest number in the list is 1\n",
      "the smallest number in the list is -9\n",
      "the smallest number in the list is -301423\n",
      "the smallest number in the list is 0\n"
     ]
    }
   ],
   "source": [
    "   \n",
    "list_1 = [34, 15, 88, 2]\n",
    "list_2 = [34, -345, -1,100]\n",
    "list_3 = [0, -10000, 1000]\n",
    "\n",
    "list_4 = [1,2]\n",
    "list_5 = [1, 2, 3, 4, 5, 6, 7, 8, 9, 10]\n",
    "list_6 = [1, 2, 3, 4, 5, 6, 7, 8, -9, 10]\n",
    "list_7 = [-133, 12, -5666, -89, 0, -12341, -301423, 101]\n",
    "list_8 = [0]\n",
    "\n",
    "\n",
    "def find_smallest(list):\n",
    "    \n",
    "    print(\"the smallest number in the list is\", min(list))\n",
    "  \n",
    "\n",
    "find_smallest(list_1)\n",
    "find_smallest(list_2)\n",
    "find_smallest(list_3)\n",
    "find_smallest(list_4)\n",
    "find_smallest(list_5)\n",
    "find_smallest(list_6)\n",
    "find_smallest(list_7)\n",
    "find_smallest(list_8)\n"
   ]
  },
  {
   "cell_type": "code",
   "execution_count": 70,
   "id": "42a8272a-a282-4ab4-8394-7b3ba3a474f4",
   "metadata": {},
   "outputs": [
    {
     "name": "stdout",
     "output_type": "stream",
     "text": [
      "The sum of the numbers that are multiples of 3 or 5 below of your number is 23\n"
     ]
    }
   ],
   "source": [
    "\n",
    "blw_num = []\n",
    "mltpls = []\n",
    "\n",
    "\n",
    "def multiples_of_3_and_5(number):\n",
    "  for i in range (1, number):\n",
    "    blw_num.append(i)\n",
    "    \n",
    "  for items in blw_num:\n",
    "    if items % 3 == 0 or items % 5 == 0:\n",
    "         mltpls.append(items)\n",
    "    \n",
    "  print(\"The sum of the numbers that are multiples of 3 or 5 below of your number is\", sum(mltpls))\n",
    "pass\n",
    "      \n",
    "multiples_of_3_and_5(10)\n"
   ]
  },
  {
   "cell_type": "code",
   "execution_count": 64,
   "id": "aabcaceb-2f74-425b-b983-e667294b324f",
   "metadata": {},
   "outputs": [
    {
     "data": {
      "text/plain": [
       "-67"
      ]
     },
     "execution_count": 64,
     "metadata": {},
     "output_type": "execute_result"
    }
   ],
   "source": [
    "            \n",
    "def differenceOfMultiples(number):\n",
    "    #insert solution code here\n",
    "    total_sum = 0\n",
    "    for x in range(number+1):\n",
    "        if x % 4 == 0 or x % 9 == 0:\n",
    "            total_sum += x\n",
    "    return number - total_sum\n",
    "    result = number - total_sum\n",
    "    print(result)\n",
    "\n",
    "differenceOfMultiples(20)"
   ]
  },
  {
   "cell_type": "code",
   "execution_count": null,
   "id": "669dea9e-582f-4832-be53-caa7296747d4",
   "metadata": {},
   "outputs": [],
   "source": [
    "\n"
   ]
  },
  {
   "cell_type": "code",
   "execution_count": null,
   "id": "709b29d0-6ca2-4445-8b80-46cd67701ba9",
   "metadata": {},
   "outputs": [],
   "source": []
  },
  {
   "cell_type": "code",
   "execution_count": null,
   "id": "461fdd80-1cff-4ed6-9de1-eddcc2ad759a",
   "metadata": {},
   "outputs": [],
   "source": []
  }
 ],
 "metadata": {
  "kernelspec": {
   "display_name": "Python 3 (ipykernel)",
   "language": "python",
   "name": "python3"
  },
  "language_info": {
   "codemirror_mode": {
    "name": "ipython",
    "version": 3
   },
   "file_extension": ".py",
   "mimetype": "text/x-python",
   "name": "python",
   "nbconvert_exporter": "python",
   "pygments_lexer": "ipython3",
   "version": "3.12.4"
  }
 },
 "nbformat": 4,
 "nbformat_minor": 5
}
